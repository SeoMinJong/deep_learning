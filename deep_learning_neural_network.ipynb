{
  "nbformat": 4,
  "nbformat_minor": 0,
  "metadata": {
    "colab": {
      "name": "deep_learning_neural_network.ipynb",
      "provenance": [],
      "collapsed_sections": [],
      "authorship_tag": "ABX9TyMqmnS3icH/feeeHdvcRFVO",
      "include_colab_link": true
    },
    "kernelspec": {
      "name": "python3",
      "display_name": "Python 3"
    },
    "language_info": {
      "name": "python"
    }
  },
  "cells": [
    {
      "cell_type": "markdown",
      "metadata": {
        "id": "view-in-github",
        "colab_type": "text"
      },
      "source": [
        "<a href=\"https://colab.research.google.com/github/SeoMinJong/deep_learning/blob/main/deep_learning_neural_network.ipynb\" target=\"_parent\"><img src=\"https://colab.research.google.com/assets/colab-badge.svg\" alt=\"Open In Colab\"/></a>"
      ]
    },
    {
      "cell_type": "markdown",
      "metadata": {
        "id": "_QXuCmK734DF"
      },
      "source": [
        "# 신경망 함수 정리"
      ]
    },
    {
      "cell_type": "code",
      "metadata": {
        "id": "PTNlmbgc32zd"
      },
      "source": [
        "%run /content/drive/MyDrive/DeepLearning/MataUtils.ipynb"
      ],
      "execution_count": null,
      "outputs": []
    },
    {
      "cell_type": "code",
      "metadata": {
        "colab": {
          "base_uri": "https://localhost:8080/"
        },
        "id": "pvz4xULc32zg",
        "outputId": "a9124136-cd3b-4a2b-a24d-2d7bf3999d5b"
      },
      "source": [
        "print(RND_MEAN, RND_STD, LEARNING_RATE)"
      ],
      "execution_count": null,
      "outputs": [
        {
          "output_type": "stream",
          "text": [
            "0 1 0.07\n"
          ],
          "name": "stdout"
        }
      ]
    },
    {
      "cell_type": "code",
      "metadata": {
        "id": "HPkMsdIz32zg"
      },
      "source": [
        "    def main_execute(epoch_count = 10, mb_size = 10, report = 2, train_ratio = 0.8):\n",
        "        load_dataset()\n",
        "        weight_initial, bias_initial = init_param() # 가중치를 초기화 시켜 반환해준다.\n",
        "        losses_mean_row, accs_mean_row, final_acc = train_and_test(epoch_count, \n",
        "                                                                   mb_size, \n",
        "                                                                   report, \n",
        "                                                                   train_ratio)\n",
        "\n",
        "        return weight_initial, bias_initial, losses_mean_row, accs_mean_row, final_acc"
      ],
      "execution_count": null,
      "outputs": []
    },
    {
      "cell_type": "code",
      "metadata": {
        "id": "WvV-cAnJ32zg"
      },
      "source": [
        "def load_dataset():\n",
        "    with open('/content/drive/MyDrive/database/abalone.csv') as csvfile:\n",
        "        csv_reader = csv.reader(csvfile)\n",
        "        next(csv_reader)\n",
        "\n",
        "        rows = []\n",
        "        for row in csv_reader:\n",
        "            rows.append(row)\n",
        "\n",
        "    global input_cnt, output_cnt, data\n",
        "    input_cnt, output_cnt = 10, 1\n",
        "    data = np.zeros([len(rows),input_cnt + output_cnt])\n",
        "\n",
        "    for n, row in enumerate(rows):\n",
        "        if row[0] == 'M': data[n, 0] = 1\n",
        "        if row[0] == 'F': data[n, 1] = 1\n",
        "        if row[0] == 'I': data[n, 2] = 1\n",
        "        data[n, 3:] = row[1:]"
      ],
      "execution_count": null,
      "outputs": []
    },
    {
      "cell_type": "code",
      "metadata": {
        "id": "tsJdswb74mf0"
      },
      "source": [
        "def init_param():\n",
        "    global weight, bias\n",
        "        \n",
        "    weight_initial = []\n",
        "    bias_initial = []  # 학습할 때의 과정 과정을 확인할 수 있다.\n",
        "\n",
        "    weight = np.random.normal(RND_MEAN, RND_STD, size= [input_cnt, output_cnt])\n",
        "    bias = np.zeros([output_cnt]) # 바이어스의 초기값이 생각보다 굉장히 영향이 크기 때문에 초기값을 0로 잡는 것\n",
        "    print(\"initial weight Value:\\n{}\".format(weight))\n",
        "    print(\"initial Bias Value:\\n{}\".format(bias))\n",
        "\n",
        "    weight_initial.append(weight)\n",
        "    bias_initial.append(bias)\n",
        "\n",
        "    return weight_initial, bias_initial"
      ],
      "execution_count": null,
      "outputs": []
    },
    {
      "cell_type": "code",
      "metadata": {
        "id": "KfXCwBfg4mf0"
      },
      "source": [
        "def train_and_test(epoch_count, mb_size, report, train_ratio):\n",
        "    mini_batch_step_count = arrange_data(mb_size = mb_size, train_ratio = train_ratio)\n",
        "\n",
        "    test_X, test_y = get_test_data()\n",
        "\n",
        "    losses_mean_row = []\n",
        "    accs_mean_row = []\n",
        "\n",
        "    for epoch in range(epoch_count):\n",
        "        losses = []\n",
        "        train_accs = []\n",
        "        for nth in range(mini_batch_step_count):\n",
        "            train_X, train_y = get_train_data(mb_size, nth)\n",
        "            \n",
        "            loss, train_acc = run_train(train_X,train_y)\n",
        "\n",
        "            losses.append(loss)\n",
        "            train_accs.append(train_acc)\n",
        "\n",
        "        if report > 0 and (epoch +1) % report == 0:\n",
        "            test_acc = run_test(test_X, test_y)\n",
        "            print(\"Epoch {} : Train - Loss = {:.3f}, Accuracy = {:.3f} / Test - Accuracy = {:.3f}\".\\\n",
        "                  format(epoch+1,np.mean(losses),np.mean(train_accs),test_acc))\n",
        "        \n",
        "        losses_mean = np.mean(losses)\n",
        "        train_accs_mean = np.mean(train_accs * 100)\n",
        "\n",
        "        losses_mean_row.append(losses_mean)\n",
        "        accs_mean_row.append(train_accs_mean)\n",
        "\n",
        "    final_acc = run_test(test_X,test_y)\n",
        "    print(\"=\"*30,\"Final TEST\",\"=\"*30)\n",
        "    print(\"Final ACccuracy = {:.3f}\".format(final_acc))\n",
        "\n",
        "    return losses_mean_row, accs_mean_row, final_acc"
      ],
      "execution_count": null,
      "outputs": []
    },
    {
      "cell_type": "code",
      "metadata": {
        "id": "5WSjW1kH4mf1"
      },
      "source": [
        "def arrange_data(mb_size, train_ratio):\n",
        "    global shuffle_map, test_begin_index\n",
        "    \n",
        "    shuffle_map = np.arange(data.shape[0])\n",
        "    np.random.shuffle(shuffle_map)\n",
        "\n",
        "    mini_batch_step_count = int(data.shape[0] * train_ratio) // mb_size\n",
        "    test_begin_index = mini_batch_step_count * mb_size\n",
        "\n",
        "    return mini_batch_step_count"
      ],
      "execution_count": null,
      "outputs": []
    },
    {
      "cell_type": "code",
      "metadata": {
        "id": "SmRm7zI84mf1"
      },
      "source": [
        "def get_test_data():\n",
        "    test_data = data[shuffle_map[test_begin_index:]]\n",
        "\n",
        "    return test_data[:, :-output_cnt], test_data[:, -output_cnt:]"
      ],
      "execution_count": null,
      "outputs": []
    },
    {
      "cell_type": "code",
      "metadata": {
        "id": "lKlgVGXB4mf1"
      },
      "source": [
        "# nth가 0과 같아 지면 shuffle을 하게 된다.\n",
        "\n",
        "def get_train_data(mb_size ,nth):\n",
        "    if nth == 0:\n",
        "        np.random.shuffle(shuffle_map[:test_begin_index])\n",
        "    train_data = data[shuffle_map[mb_size * nth : mb_size * (nth +1)]]\n",
        "    # nth = 미니 배치의 순서\n",
        "\n",
        "    return train_data[:, :-output_cnt], train_data[:, -output_cnt:]"
      ],
      "execution_count": null,
      "outputs": []
    },
    {
      "cell_type": "code",
      "metadata": {
        "id": "QgUA73WS4mf1"
      },
      "source": [
        "def forward_neuralnet(x):\n",
        "    y_hat = np.matmul(x, weight)+bias\n",
        "\n",
        "    return y_hat, x"
      ],
      "execution_count": null,
      "outputs": []
    },
    {
      "cell_type": "code",
      "metadata": {
        "id": "xCChbQm14mf1"
      },
      "source": [
        "def forward_postproc(y_hat,y):\n",
        "    diff = y_hat - y\n",
        "    square = np.square(diff)\n",
        "    loss = np.mean(square)\n",
        "\n",
        "    return loss, diff"
      ],
      "execution_count": null,
      "outputs": []
    },
    {
      "cell_type": "code",
      "metadata": {
        "id": "Vq4A2G024mf1"
      },
      "source": [
        "def backprop_neuralnet(G_output, x):\n",
        "    global weight, bias \n",
        "\n",
        "    x_transpose = x.transpose()\n",
        "    G_w = np.matmul(x_transpose, G_output)\n",
        "\n",
        "    G_b = np.sum(G_output, axis = 0)\n",
        "\n",
        "    weight -= LEARNING_RATE * G_w\n",
        "    bias   -= LEARNING_RATE * G_b\n",
        "    "
      ],
      "execution_count": null,
      "outputs": []
    },
    {
      "cell_type": "code",
      "metadata": {
        "id": "ZfjM7ilC4mf1"
      },
      "source": [
        "def backprop_postproc(diff):\n",
        "    M_N = diff.shape\n",
        "\n",
        "    g_mse_square  = np.ones(M_N) / np.prod(M_N) # mse를 square로 미분 / np.prod(변수) = 변수 안에 있는 원소들을 곱해주는 함수\n",
        "    g_square_diff = 2 * diff # diff를 square로 미분\n",
        "    g_diff_output = 1\n",
        "\n",
        "    G_diff = g_mse_square * g_square_diff\n",
        "    G_output = g_diff_output * G_diff\n",
        "\n",
        "    return G_output"
      ],
      "execution_count": null,
      "outputs": []
    },
    {
      "cell_type": "code",
      "metadata": {
        "id": "Ql5tKTKf4mf1"
      },
      "source": [
        "def run_train(x, y):\n",
        "    y_hat, aux_nn_x   = forward_neuralnet(x)\n",
        "    loss, aux_pp_diff = forward_postproc(y_hat, y)\n",
        "\n",
        "    accuracy = eval_accuracy(y_hat, y)\n",
        "\n",
        "    G_output = backprop_postproc(aux_pp_diff)\n",
        "    backprop_neuralnet(G_output, aux_nn_x)\n",
        "\n",
        "    return loss, accuracy"
      ],
      "execution_count": null,
      "outputs": []
    },
    {
      "cell_type": "code",
      "metadata": {
        "id": "EXuXL6sI4mf2"
      },
      "source": [
        "def run_test(X, y):\n",
        "    y_hat, _ = forward_neuralnet(X)\n",
        "    accuracy = eval_accuracy(y_hat, y)\n",
        "\n",
        "    return accuracy"
      ],
      "execution_count": null,
      "outputs": []
    },
    {
      "cell_type": "code",
      "metadata": {
        "id": "T3do9BOS4mf2"
      },
      "source": [
        "def eval_accuracy(y_hat, y):\n",
        "    mdiff = np.mean(np.abs((y_hat - y) / y))\n",
        "    \n",
        "    return 1 - mdiff"
      ],
      "execution_count": null,
      "outputs": []
    }
  ]
}